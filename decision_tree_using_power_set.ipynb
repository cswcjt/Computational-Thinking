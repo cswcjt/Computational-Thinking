{
 "cells": [
  {
   "cell_type": "code",
   "execution_count": 11,
   "id": "a1a55b23",
   "metadata": {},
   "outputs": [],
   "source": [
    "# generate all combinations of N items\n",
    "# 선택지가 0,1인 경우\n",
    "# bit를 활용하는 방법 : (i >> j) % 2 == 1\n",
    "def powerSet(items):\n",
    "    N = len(items)\n",
    "    # enumerate the 2**N possible combinations\n",
    "    for i in range(2**N):\n",
    "        combo = []\n",
    "        for j in range(N):\n",
    "            # test bit jth of integer i\n",
    "            print(f\"in the bag? {(i >> j) % 2}\")\n",
    "            if (i >> j) % 2 == 1:\n",
    "                print(f\"leaf = {i}\")\n",
    "                print(f\"which items : {items[j]}\")\n",
    "                combo.append(items[j])\n",
    "        yield combo"
   ]
  },
  {
   "cell_type": "code",
   "execution_count": 12,
   "id": "d260a7af",
   "metadata": {},
   "outputs": [],
   "source": [
    "# 선택지가 0,1,2인 경우 \n",
    "# bit를 활용하는 방법 : (i // (3 ** j)) % 3 == 1\n",
    "# bit를 활용하는 방법 : (i // (3 ** j)) % 3 == 2\n",
    "def yieldAllCombos(items):\n",
    "    \"\"\"\n",
    "        Generates all combinations of N items into two bags, whereby each \n",
    "        item is in one or zero bags.\n",
    "        Yields a tuple, (bag1, bag2), where each bag is represented as a list \n",
    "        of which item(s) are in each bag.\n",
    "    \"\"\"\n",
    "    N = len(items)\n",
    "    # Enumerate the 3**N possible combinations   \n",
    "    for i in range(3**N):\n",
    "        bag1 = []\n",
    "        bag2 = []\n",
    "        for j in range(N):\n",
    "            if (i // (3 ** j)) % 3 == 1:\n",
    "                bag1.append(items[j])\n",
    "            elif (i // (3 ** j)) % 3 == 2:\n",
    "                bag2.append(items[j])\n",
    "        yield (bag1, bag2)"
   ]
  }
 ],
 "metadata": {
  "kernelspec": {
   "display_name": "Python 3 (ipykernel)",
   "language": "python",
   "name": "python3"
  },
  "language_info": {
   "codemirror_mode": {
    "name": "ipython",
    "version": 3
   },
   "file_extension": ".py",
   "mimetype": "text/x-python",
   "name": "python",
   "nbconvert_exporter": "python",
   "pygments_lexer": "ipython3",
   "version": "3.8.13"
  }
 },
 "nbformat": 4,
 "nbformat_minor": 5
}
