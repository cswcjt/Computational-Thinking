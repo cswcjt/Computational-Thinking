{
 "cells": [
  {
   "cell_type": "code",
   "execution_count": 1,
   "id": "387c75db",
   "metadata": {},
   "outputs": [],
   "source": [
    "def get_all_subsets(some_list):\n",
    "    \"\"\"Returns all subsets of size 0 - len(some_list) for some_list\"\"\"\n",
    "    if len(some_list) == 0:\n",
    "        # If the list is empty, return the empty list\n",
    "        return [[]]\n",
    "    subsets = []\n",
    "    first_elt = some_list[0]\n",
    "    rest_list = some_list[1:]\n",
    "    print(some_list)\n",
    "    # Strategy: Get all the subsets of rest_list; for each\n",
    "    # of those subsets, a full subset list will contain both\n",
    "    # the original subset as well as a version of the subset\n",
    "    # that contains first_elt\n",
    "    for partial_subset in get_all_subsets(rest_list): # 재귀함수로 사용했구나..\n",
    "        print(f\"start subsets : {subsets}\")\n",
    "        print(f\"first_elt : {first_elt}, rest_list : {rest_list}\")\n",
    "        subsets.append(partial_subset)\n",
    "        print(f\"partial_subset = {partial_subset}\")\n",
    "        print(f\"append partial subsets = {subsets}\")\n",
    "        next_subset = partial_subset[:] + [first_elt]\n",
    "        subsets.append(next_subset)\n",
    "        print(f\"next_subset = {next_subset}\")\n",
    "        print(f\"append next subsets = {subsets}\")\n",
    "        print(\"-\"*30)\n",
    "    return subsets\n",
    "\n",
    "# NUMBER = 3\n",
    "# def look_for_all_the_things(myList):\n",
    "#     \"\"\"Looks at all subsets of this list\"\"\"\n",
    "#     # Make subsets\n",
    "#     all_subsets = get_all_subsets(myList)\n",
    "#     for subset in all_subsets:\n",
    "#         if sum(subset) == NUMBER:\n",
    "#             return True\n",
    "#     return False"
   ]
  },
  {
   "cell_type": "code",
   "execution_count": 2,
   "id": "fffdf6b2",
   "metadata": {},
   "outputs": [
    {
     "name": "stdout",
     "output_type": "stream",
     "text": [
      "[1, 2]\n",
      "[2]\n",
      "start subsets : []\n",
      "first_elt : 2, rest_list : []\n",
      "partial_subset = []\n",
      "append partial subsets = [[]]\n",
      "next_subset = [2]\n",
      "append next subsets = [[], [2]]\n",
      "------------------------------\n",
      "start subsets : []\n",
      "first_elt : 1, rest_list : [2]\n",
      "partial_subset = []\n",
      "append partial subsets = [[]]\n",
      "next_subset = [1]\n",
      "append next subsets = [[], [1]]\n",
      "------------------------------\n",
      "start subsets : [[], [1]]\n",
      "first_elt : 1, rest_list : [2]\n",
      "partial_subset = [2]\n",
      "append partial subsets = [[], [1], [2]]\n",
      "next_subset = [2, 1]\n",
      "append next subsets = [[], [1], [2], [2, 1]]\n",
      "------------------------------\n"
     ]
    },
    {
     "data": {
      "text/plain": [
       "[[], [1], [2], [2, 1]]"
      ]
     },
     "execution_count": 2,
     "metadata": {},
     "output_type": "execute_result"
    }
   ],
   "source": [
    "get_all_subsets([1,2])"
   ]
  },
  {
   "cell_type": "code",
   "execution_count": null,
   "id": "d0b2f548",
   "metadata": {},
   "outputs": [],
   "source": [
    "def get_all_subsets(some_list):\n",
    "    \"\"\"Returns all subsets of size 0 - len(some_list) for some_list\"\"\"\n",
    "    if len(some_list) == 0:\n",
    "        # If the list is empty, return the empty list\n",
    "        return [[]]\n",
    "    subsets = []\n",
    "    first_elt = some_list[0]\n",
    "    rest_list = some_list[1:]\n",
    "    # Strategy: Get all the subsets of rest_list; for each\n",
    "    # of those subsets, a full subset list will contain both\n",
    "    # the original subset as well as a version of the subset\n",
    "    # that contains first_elt\n",
    "    for partial_subset in get_all_subsets(rest_list): # 재귀함수로 사용했구나!\n",
    "        subsets.append(partial_subset)\n",
    "        next_subset = partial_subset[:] + [first_elt]\n",
    "        subsets.append(next_subset)\n",
    "    return subsets"
   ]
  },
  {
   "cell_type": "code",
   "execution_count": 90,
   "id": "530eae1a",
   "metadata": {},
   "outputs": [
    {
     "name": "stdout",
     "output_type": "stream",
     "text": [
      "2\n",
      "[2]\n",
      "3\n",
      "[2, 3]\n"
     ]
    }
   ],
   "source": [
    "a = [2,3]\n",
    "sub = []\n",
    "for i in a : \n",
    "    print(i)\n",
    "    sub.append(i)\n",
    "    print(sub)"
   ]
  },
  {
   "cell_type": "code",
   "execution_count": 115,
   "id": "0d4946d5",
   "metadata": {},
   "outputs": [
    {
     "name": "stdout",
     "output_type": "stream",
     "text": [
      "[1, 2] []\n"
     ]
    }
   ],
   "source": [
    "a = [1,2]\n",
    "print(a[0:], a[100000:])"
   ]
  },
  {
   "cell_type": "code",
   "execution_count": 92,
   "id": "3d300533",
   "metadata": {},
   "outputs": [
    {
     "data": {
      "text/plain": [
       "[[], [], [1]]"
      ]
     },
     "execution_count": 92,
     "metadata": {},
     "output_type": "execute_result"
    }
   ],
   "source": [
    "[[]] + [[], [1]]"
   ]
  },
  {
   "cell_type": "code",
   "execution_count": null,
   "id": "308e66fb",
   "metadata": {},
   "outputs": [],
   "source": []
  }
 ],
 "metadata": {
  "kernelspec": {
   "display_name": "Python 3 (ipykernel)",
   "language": "python",
   "name": "python3"
  },
  "language_info": {
   "codemirror_mode": {
    "name": "ipython",
    "version": 3
   },
   "file_extension": ".py",
   "mimetype": "text/x-python",
   "name": "python",
   "nbconvert_exporter": "python",
   "pygments_lexer": "ipython3",
   "version": "3.8.13"
  }
 },
 "nbformat": 4,
 "nbformat_minor": 5
}
